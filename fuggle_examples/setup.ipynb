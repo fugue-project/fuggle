{
 "cells": [
  {
   "cell_type": "code",
   "execution_count": null,
   "metadata": {},
   "outputs": [],
   "source": [
    "import sys\n",
    "sys.path.insert(0,\"/root/workspace/fuggle\")\n"
   ]
  },
  {
   "cell_type": "code",
   "execution_count": null,
   "metadata": {},
   "outputs": [],
   "source": [
    "from fuggle import setup, Dag, PlotLine\n",
    "from fugue import NativeExecutionEngine\n",
    "import pandas as pd"
   ]
  },
  {
   "cell_type": "code",
   "execution_count": null,
   "metadata": {},
   "outputs": [],
   "source": [
    "setup(\"spark\")"
   ]
  },
  {
   "cell_type": "code",
   "execution_count": null,
   "metadata": {},
   "outputs": [],
   "source": [
    "dag = Dag()\n",
    "df = dag.df([[0,0,\"g1\"],[1,3,\"g1\"],[0,1,\"g2\"],[1,5,\"g2\"]],\"a:int,b:int,c:str\").deterministic_checkpoint()\n",
    "df.output(PlotLine, params=dict(x=\"a\",y=\"b\",group=\"c\"))\n",
    "\n",
    "df = dag.df([\n",
    "    [0,0,\"g1\",\"k1\"],[1,3,\"g1\",\"k1\"],[0,1,\"g2\",\"k1\"],[1,5,\"g2\",\"k1\"],\n",
    "    [10,10,\"g1\",\"k2\"],[11,13,\"g1\",\"k2\"],[10,11,\"g2\",\"k2\"],[11,15,\"g2\",\"k2\"],\n",
    "],\"a:int,b:int,c:str,d:str\").deterministic_checkpoint()\n",
    "df.partition(by=[\"d\"]).output(PlotLine, params=dict(x=\"a\",y=\"b\",group=\"c\", width=0.5))\n",
    "dag.run()"
   ]
  },
  {
   "cell_type": "code",
   "execution_count": null,
   "metadata": {},
   "outputs": [],
   "source": [
    "%%fsql\n",
    "CREATE [[0]] SCHEMA a:int\n",
    "PRINT ROWCOUNT"
   ]
  },
  {
   "cell_type": "code",
   "execution_count": null,
   "metadata": {},
   "outputs": [],
   "source": [
    "# schema: *\n",
    "def tr(df:pd.DataFrame) -> pd.DataFrame:\n",
    "    return df"
   ]
  },
  {
   "cell_type": "code",
   "execution_count": null,
   "metadata": {},
   "outputs": [],
   "source": [
    "%%fsql\n",
    "CREATE [[0]] SCHEMA a:int\n",
    "TRANSFORM USING tr\n",
    "PRINT ROWCOUNT"
   ]
  },
  {
   "cell_type": "code",
   "execution_count": null,
   "metadata": {},
   "outputs": [],
   "source": []
  }
 ],
 "metadata": {
  "kernelspec": {
   "display_name": "Python 3",
   "language": "python",
   "name": "python3"
  },
  "language_info": {
   "codemirror_mode": {
    "name": "ipython",
    "version": 3
   },
   "file_extension": ".py",
   "mimetype": "text/x-python",
   "name": "python",
   "nbconvert_exporter": "python",
   "pygments_lexer": "ipython3",
   "version": "3.7.9"
  }
 },
 "nbformat": 4,
 "nbformat_minor": 4
}
